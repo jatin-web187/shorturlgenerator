{
 "cells": [
  {
   "cell_type": "code",
   "execution_count": 2,
   "id": "a1d96100-b4a0-47dd-a7b6-96e54387ed6c",
   "metadata": {},
   "outputs": [],
   "source": [
    "# URL SHORTNER\n",
    "#VERSION--1"
   ]
  },
  {
   "cell_type": "code",
   "execution_count": 1,
   "id": "12ea9baa-9685-4940-9afb-7dc5da87118b",
   "metadata": {},
   "outputs": [],
   "source": [
    "import string\n",
    "import random"
   ]
  },
  {
   "cell_type": "code",
   "execution_count": 4,
   "id": "c2d65c86-7e31-4e6c-80a0-d1763b8c8fbb",
   "metadata": {},
   "outputs": [],
   "source": [
    "DB={}\n",
    "leng=random.randint(4,6)"
   ]
  },
  {
   "cell_type": "code",
   "execution_count": 5,
   "id": "49cef317-097c-4017-851d-9f093fde4df2",
   "metadata": {},
   "outputs": [],
   "source": [
    "chars=string.ascii_lowercase"
   ]
  },
  {
   "cell_type": "code",
   "execution_count": 6,
   "id": "43028f0a-89a5-4cde-a9e2-c0a7ecf2b961",
   "metadata": {},
   "outputs": [
    {
     "data": {
      "text/plain": [
       "'abcdefghijklmnopqrstuvwxyz'"
      ]
     },
     "execution_count": 6,
     "metadata": {},
     "output_type": "execute_result"
    }
   ],
   "source": [
    "chars"
   ]
  },
  {
   "cell_type": "code",
   "execution_count": 8,
   "id": "9c697878-aa5d-4308-9ff0-6a99b1aaece4",
   "metadata": {},
   "outputs": [
    {
     "data": {
      "text/plain": [
       "'v'"
      ]
     },
     "execution_count": 8,
     "metadata": {},
     "output_type": "execute_result"
    }
   ],
   "source": [
    "random.choice(chars)"
   ]
  },
  {
   "cell_type": "code",
   "execution_count": 11,
   "id": "3d3a0262-74e3-4744-967e-b3e37c789a63",
   "metadata": {},
   "outputs": [],
   "source": [
    " shortedurl=[ random.choice(chars) for i in range(leng)]"
   ]
  },
  {
   "cell_type": "code",
   "execution_count": 12,
   "id": "cbcf3450-78bd-43b9-ac50-a5e3fa480619",
   "metadata": {},
   "outputs": [
    {
     "data": {
      "text/plain": [
       "'urrikd'"
      ]
     },
     "execution_count": 12,
     "metadata": {},
     "output_type": "execute_result"
    }
   ],
   "source": [
    "\"\".join(shortedurl)"
   ]
  },
  {
   "cell_type": "code",
   "execution_count": 18,
   "id": "daa28523-4d6e-4166-b2a6-156fbacbc072",
   "metadata": {},
   "outputs": [],
   "source": [
    "def getshorturl(longUrl):\n",
    "    \"\"\"it will exept long url and would convert it into short url\"\"\"\n",
    "    leng=random.randint(4,6)\n",
    "    chars=string.ascii_lowercase\n",
    "    shorturl=\"\".join([ random.choice(chars) for i in range(leng)])\n",
    "    if shorturl in DB:\n",
    "        return getshorturl(longUrl)\n",
    "    else:\n",
    "        DB[shorturl]=longUrl\n",
    "        result=\"cm.in/\"+shorturl\n",
    "        return result\n",
    "    \n",
    "    "
   ]
  },
  {
   "cell_type": "code",
   "execution_count": 19,
   "id": "5d44a9d7-116a-4af2-bf5a-5c94f543bbf7",
   "metadata": {},
   "outputs": [
    {
     "data": {
      "text/plain": [
       "'cm.in/lxrhd'"
      ]
     },
     "execution_count": 19,
     "metadata": {},
     "output_type": "execute_result"
    }
   ],
   "source": [
    "getshorturl(\"www.facebook.com\")"
   ]
  },
  {
   "cell_type": "code",
   "execution_count": 22,
   "id": "733804fa-549c-48a0-b440-2cb98c978cdf",
   "metadata": {},
   "outputs": [],
   "source": [
    "# reverse function \n",
    "def getlongurl(shorturl):\n",
    "    \"\"\" retuen the longurl by expecting short url\"\"\"\n",
    "    key=shorturl.split('/')[-1]\n",
    "    if key in DB :\n",
    "        return DB[key]\n",
    "    else:\n",
    "        return \"short url does not exist\""
   ]
  },
  {
   "cell_type": "code",
   "execution_count": 24,
   "id": "583e2d46-e4d2-4b73-b0aa-4d1948f1f226",
   "metadata": {},
   "outputs": [
    {
     "data": {
      "text/plain": [
       "'www.facebook.com'"
      ]
     },
     "execution_count": 24,
     "metadata": {},
     "output_type": "execute_result"
    }
   ],
   "source": [
    "getlongurl('cm.in/lxrhd')"
   ]
  },
  {
   "cell_type": "code",
   "execution_count": 3,
   "id": "7182fba2-adc5-42ae-8881-fa754e68d083",
   "metadata": {},
   "outputs": [],
   "source": [
    "# version--2 \"\"for alpha numeric or creating your own customizied url\"\"\n",
    "DB={}\n",
    "def getshorturl(longurl,myshorturl=None):\n",
    "    \"\"\" it will accept a long url and convet it into customized short url\"\"\"\n",
    "    if myshorturl:\n",
    "        if myshorturl in DB:\n",
    "            return\"shorturl alredy exist\"\n",
    "        else:\n",
    "            DB[myshorturl]=longurl\n",
    "            result=\"cm.in/\"+myshorturl\n",
    "            return result\n",
    "        \n",
    "    leng=random.randint(4,6)\n",
    "    chars=string.ascii_lowercase +string.digits\n",
    "    shorturl=\"\".join([random.choice(chars) for i in range(leng)])\n",
    "    if shorturl in DB:\n",
    "        return getShorturl(longurl)\n",
    "    else:\n",
    "        DB[shorturl]=longurl\n",
    "    result=\"cm/\"+shorturl\n",
    "    return result"
   ]
  },
  {
   "cell_type": "code",
   "execution_count": 4,
   "id": "61444b89-8e17-495e-8feb-b7344a09e052",
   "metadata": {},
   "outputs": [
    {
     "data": {
      "text/plain": [
       "'cm/umx64l'"
      ]
     },
     "execution_count": 4,
     "metadata": {},
     "output_type": "execute_result"
    }
   ],
   "source": [
    "getshorturl(\"www.jatin.com\")"
   ]
  },
  {
   "cell_type": "code",
   "execution_count": 5,
   "id": "d435e6da-24bb-40f3-8ff8-15d59a30ff3b",
   "metadata": {},
   "outputs": [
    {
     "data": {
      "text/plain": [
       "'cm.in/jat56'"
      ]
     },
     "execution_count": 5,
     "metadata": {},
     "output_type": "execute_result"
    }
   ],
   "source": [
    "getshorturl(\"www.jatin.inwe\",\"jat56\")"
   ]
  },
  {
   "cell_type": "code",
   "execution_count": 6,
   "id": "51c8d2e3-014e-4190-944e-0b68b8cac17a",
   "metadata": {},
   "outputs": [
    {
     "data": {
      "text/plain": [
       "{'umx64l': 'www.jatin.com', 'jat56': 'www.jatin.inwe'}"
      ]
     },
     "execution_count": 6,
     "metadata": {},
     "output_type": "execute_result"
    }
   ],
   "source": [
    "DB"
   ]
  },
  {
   "cell_type": "code",
   "execution_count": 10,
   "id": "a559cead-16c2-426a-a54b-ade9bef6291b",
   "metadata": {},
   "outputs": [],
   "source": [
    "def updatelongurl(shorturl,newlongurl):\n",
    "    \"\"\" it will be updating longurl with new one\"\"\"\n",
    "    if shorturl in DB:\n",
    "        shorturl=shorturl.split(\"/\")[-1]\n",
    "        DB[shorturl]=newlongurl\n",
    "        res=\"cm.in/\"+shorturl\n",
    "        return res\n",
    "    else:\n",
    "        return\"shorturl does not exist\""
   ]
  },
  {
   "cell_type": "code",
   "execution_count": 8,
   "id": "e3668481-1c05-4cd5-92a7-d1741987db4f",
   "metadata": {},
   "outputs": [
    {
     "data": {
      "text/plain": [
       "{'umx64l': 'www.jatin.com', 'jat56': 'www.jatin.inwe'}"
      ]
     },
     "execution_count": 8,
     "metadata": {},
     "output_type": "execute_result"
    }
   ],
   "source": [
    "DB"
   ]
  },
  {
   "cell_type": "code",
   "execution_count": 11,
   "id": "37e7540f-b601-455b-bea8-3f376ed818f5",
   "metadata": {},
   "outputs": [
    {
     "data": {
      "text/plain": [
       "'cm.in/jat56'"
      ]
     },
     "execution_count": 11,
     "metadata": {},
     "output_type": "execute_result"
    }
   ],
   "source": [
    "updatelongurl(\"jat56\",\"www.jatin56.in\")"
   ]
  },
  {
   "cell_type": "code",
   "execution_count": 12,
   "id": "a1cf2dc6-20cd-4d9b-b99c-f2592172cae7",
   "metadata": {},
   "outputs": [
    {
     "data": {
      "text/plain": [
       "{'umx64l': 'www.jatin.com', 'jat56': 'www.jatin56.in'}"
      ]
     },
     "execution_count": 12,
     "metadata": {},
     "output_type": "execute_result"
    }
   ],
   "source": [
    "DB"
   ]
  },
  {
   "cell_type": "code",
   "execution_count": null,
   "id": "7e7c9282-8a50-4614-a0d6-a278eefcdd91",
   "metadata": {},
   "outputs": [],
   "source": []
  }
 ],
 "metadata": {
  "kernelspec": {
   "display_name": "Python 3 (ipykernel)",
   "language": "python",
   "name": "python3"
  },
  "language_info": {
   "codemirror_mode": {
    "name": "ipython",
    "version": 3
   },
   "file_extension": ".py",
   "mimetype": "text/x-python",
   "name": "python",
   "nbconvert_exporter": "python",
   "pygments_lexer": "ipython3",
   "version": "3.12.4"
  }
 },
 "nbformat": 4,
 "nbformat_minor": 5
}
